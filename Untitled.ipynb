{
 "cells": [
  {
   "cell_type": "code",
   "execution_count": 1,
   "id": "3a7fef4d-ea8a-4a9f-a467-5d47033766ad",
   "metadata": {},
   "outputs": [
    {
     "name": "stdout",
     "output_type": "stream",
     "text": [
      "testing virtual env\n"
     ]
    }
   ],
   "source": [
    "print(\"testing virtual env\")"
   ]
  },
  {
   "cell_type": "code",
   "execution_count": null,
   "id": "65e28ec3-29be-4643-a162-298bf336b484",
   "metadata": {},
   "outputs": [],
   "source": []
  }
 ],
 "metadata": {
  "kernelspec": {
   "display_name": "Python 3 (ipykernel)",
   "language": "python",
   "name": "python3"
  },
  "language_info": {
   "codemirror_mode": {
    "name": "ipython",
    "version": 3
   },
   "file_extension": ".py",
   "mimetype": "text/x-python",
   "name": "python",
   "nbconvert_exporter": "python",
   "pygments_lexer": "ipython3",
   "version": "3.10.13"
  }
 },
 "nbformat": 4,
 "nbformat_minor": 5
}
